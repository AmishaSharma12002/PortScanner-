{
  "nbformat": 4,
  "nbformat_minor": 0,
  "metadata": {
    "colab": {
      "provenance": [],
      "authorship_tag": "ABX9TyPS9IoofqF0IE/sfsP/KgzV",
      "include_colab_link": true
    },
    "kernelspec": {
      "name": "python3",
      "display_name": "Python 3"
    },
    "language_info": {
      "name": "python"
    }
  },
  "cells": [
    {
      "cell_type": "markdown",
      "metadata": {
        "id": "view-in-github",
        "colab_type": "text"
      },
      "source": [
        "<a href=\"https://colab.research.google.com/github/AmishaSharma12002/PortScanner-/blob/main/BetterVersionOfPortScanner.ipynb\" target=\"_parent\"><img src=\"https://colab.research.google.com/assets/colab-badge.svg\" alt=\"Open In Colab\"/></a>"
      ]
    },
    {
      "cell_type": "code",
      "source": [
        "#better version \n",
        "import socket\n",
        "import threading\n",
        "\n",
        "def scan_ports(host, ports, results):\n",
        "    for port in ports:\n",
        "        sock = socket.socket(socket.AF_INET, socket.SOCK_STREAM)\n",
        "        sock.settimeout(5)\n",
        "        result = sock.connect_ex((host, port))\n",
        "        if result == 0:\n",
        "            results.append(port)\n",
        "        sock.close()\n",
        "\n",
        "def write_to_file(filename, open_ports):\n",
        "    with open(filename, 'w') as f:\n",
        "        for port in open_ports:\n",
        "            f.write(str(port) + '\\n')\n",
        "\n",
        "host = input(\"Enter host to scan: \")\n",
        "start = int(input(\"Enter starting port: \"))\n",
        "end = int(input(\"Enter ending port: \"))\n",
        "\n",
        "num_threads = 10 # Number of threads to use\n",
        "threads = []\n",
        "results = []\n",
        "ports_per_thread = (end - start) // num_threads\n",
        "\n",
        "for i in range(num_threads):\n",
        "    start_port = start + (i * ports_per_thread)\n",
        "    end_port = start_port + ports_per_thread\n",
        "    if i == num_threads - 1:\n",
        "        end_port = end + 1 # Make sure to include the final port\n",
        "    ports = range(start_port, end_port)\n",
        "    thread = threading.Thread(target=scan_ports, args=(host, ports, results))\n",
        "    threads.append(thread)\n",
        "    thread.start()\n",
        "\n",
        "# Wait for all threads to complete\n",
        "for thread in threads:\n",
        "    thread.join()\n",
        "\n",
        "if len(results) > 0:\n",
        "    print(\"Open ports:\", results)\n",
        "    filename = input(\"Enter a file name to save the result: \")\n",
        "    write_to_file(filename, results)\n",
        "    print(\"Results saved to\", filename)\n",
        "else:\n",
        "    print(\"No open ports found.\")\n"
      ],
      "metadata": {
        "id": "kgAxjBAf9b8F"
      },
      "execution_count": null,
      "outputs": []
    }
  ]
}