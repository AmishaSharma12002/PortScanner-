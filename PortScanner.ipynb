{
  "nbformat": 4,
  "nbformat_minor": 0,
  "metadata": {
    "colab": {
      "provenance": [],
      "authorship_tag": "ABX9TyMJls6JGeyfCCfiBGxzXe51",
      "include_colab_link": true
    },
    "kernelspec": {
      "name": "python3",
      "display_name": "Python 3"
    },
    "language_info": {
      "name": "python"
    }
  },
  "cells": [
    {
      "cell_type": "markdown",
      "metadata": {
        "id": "view-in-github",
        "colab_type": "text"
      },
      "source": [
        "<a href=\"https://colab.research.google.com/github/AmishaSharma12002/PortScanner-/blob/main/PortScanner.ipynb\" target=\"_parent\"><img src=\"https://colab.research.google.com/assets/colab-badge.svg\" alt=\"Open In Colab\"/></a>"
      ]
    },
    {
      "cell_type": "code",
      "source": [
        "#Code1\n",
        "import socket\n",
        "import sys\n",
        "from datetime import datetime\n",
        "remoteServer = input(\"Enter the remote host to SCAN: \")\n",
        "remoteIp = socket.gethostbyname(remoteServer)\n",
        "print(\"--\"*30)\n",
        "print(\"Scanning:\",remoteIp)\n",
        "print(\"--\"*30)\n",
        "t = datetime.now()\n",
        "try:\n",
        "    for port in range (1,1025):\n",
        "        s = socket.socket(socket.AF_INET,socket.SOCK_STREAM)\n",
        "        res = s.connect_ex((remoteIp,port))\n",
        "        if res ==0:\n",
        "            print(\"Port {}:     open\".format(port))\n",
        "            s.close()\n",
        "except KeyboardInterrupt:\n",
        "    print(\"You pressed ctrl + c, Exiting...\")\n",
        "    sys.close()\n",
        "except socket.gaierror:\n",
        "    print(\"Host name Can't be resolved, Exiting...\")\n",
        "    sys.close()\n",
        "except socket.error:\n",
        "    print(\"Can't connect to server, Try again....\")\n",
        "    sys.close()\n",
        "t2= datetime.now()\n",
        "t1 =t2-t\n",
        "print(\"Scanning was complete in: \", t1)"
      ],
      "metadata": {
        "id": "kgAxjBAf9b8F"
      },
      "execution_count": null,
      "outputs": []
    }
  ]
}